{
 "cells": [
  {
   "attachments": {},
   "cell_type": "markdown",
   "metadata": {},
   "source": [
    "# Cans Notebook for Understanding Transformers"
   ]
  },
  {
   "attachments": {},
   "cell_type": "markdown",
   "metadata": {},
   "source": [
    "## Purpose\n",
    "Predict next token in a sequence"
   ]
  },
  {
   "cell_type": "code",
   "execution_count": 1,
   "metadata": {},
   "outputs": [],
   "source": [
    "# Jargon dictionary\n",
    "jargon = {\n",
    "    'vector':\n",
    "    'multidimensional variable, column of shape 1 x N',\n",
    "\n",
    "    'tensor':\n",
    "    'multidimensional variable, higher number of axes than variable, e.g. L x M x N'\n",
    "}"
   ]
  },
  {
   "cell_type": "code",
   "execution_count": 5,
   "metadata": {},
   "outputs": [
    {
     "data": {
      "text/plain": [
       "'multidimensional variable, higher number of axes than variable, e.g. L x M x N'"
      ]
     },
     "execution_count": 5,
     "metadata": {},
     "output_type": "execute_result"
    }
   ],
   "source": [
    "jargon['tensor']"
   ]
  },
  {
   "attachments": {},
   "cell_type": "markdown",
   "metadata": {},
   "source": [
    "Position = time\n",
    "In attention layer, we call the output of the softmax attention. This corresponds to activation, Activation = attention"
   ]
  },
  {
   "attachments": {},
   "cell_type": "markdown",
   "metadata": {},
   "source": [
    "## Ideas for Interpretability\n",
    "\n",
    "Multiheadedness: higher chance fo find a good parameter value?"
   ]
  },
  {
   "attachments": {},
   "cell_type": "markdown",
   "metadata": {},
   "source": [
    "## General structure"
   ]
  },
  {
   "attachments": {},
   "cell_type": "markdown",
   "metadata": {},
   "source": [
    "Outside the model:\n",
    "\n",
    "Tokenizer: Input data to distinct tokens\n",
    "___\n",
    "\n",
    "1. Embedding: Token to vector\n",
    "2. Residual Stream with N Blocks of\n",
    "   - LayerNorm\n",
    "   1. Multiheaded Attention (multiple attention layers in parallel) \n",
    "   - LayerNorm\n",
    "   2. MLP\n",
    "   - LayerNorm\n",
    "3. Unembedding\n",
    "\n",
    "___\n",
    "'untokenizer?'"
   ]
  },
  {
   "attachments": {},
   "cell_type": "markdown",
   "metadata": {},
   "source": [
    "## 1. Embedding\n",
    "\n",
    "Takes batch of tokens: [batch, position]. Each token corresponds to an it in the range [0, d_vocab]\n",
    "\n",
    "Define a matrix W_E: [d_vocab, d_model]\n",
    "\n",
    "W_E maps token to d_model space. Thats why they call it a lookup table\n",
    "\n",
    "`embedded = W_E[tokens, :]`\n",
    "\n",
    "### 1.1 Positional Embedding\n",
    "Maps the position of the token to d_model space.\n",
    "\n",
    "add this pos embed to d_model space"
   ]
  },
  {
   "attachments": {},
   "cell_type": "markdown",
   "metadata": {},
   "source": [
    "# 2. LayerNorm\n",
    "\n",
    "has weights (init = 1)\n",
    "and biases (init = 0)\n",
    "\n",
    "input : residual\n",
    "\n",
    "- mean=0 translation\n",
    "  tranlated = residual - mean(residual)\n",
    "\n",
    "- stddev = Root mean square\n",
    "  stddev = sqrt(mean(residual^2))\n",
    "\n",
    "normalized = (residual - mean) / variance\n",
    "\n",
    "weighted = residual @ weights + biases\n",
    "\n",
    "return weight\n",
    "\n"
   ]
  },
  {
   "attachments": {},
   "cell_type": "markdown",
   "metadata": {},
   "source": [
    "# 3. Attention"
   ]
  },
  {
   "attachments": {},
   "cell_type": "markdown",
   "metadata": {},
   "source": [
    "Attention solves data dependent information exchange.\n",
    "\n",
    "Every token in sequence\n",
    "\n",
    "\n",
    "Three linear maps to lower dimensional ```d_head``` space:\n",
    "- Query: What am I looking for?\n",
    "- Key: What do I contain?\n",
    "- Value: if you choose to aggregate this position, you'll actually get the transformed version instead of x. \n",
    "If you find me interesting, here's what ill communicate to you\n",
    "\n",
    "Dot product Q K: How much does the query fit to the key?\n",
    "\n",
    "Mask to only allow Q K pairs where Q doesn't look into the future: Index Q >= Index K, Lower triangular matrix including qk\n",
    "\n",
    "divide by sqrt(d_head) -> activation_scores\n",
    "\n",
    "Apply softmax per query -> attentions (=activations)\n",
    "\n",
    "multiply by key values\n",
    "\n",
    "map values with W_O back to the residual stream."
   ]
  },
  {
   "attachments": {},
   "cell_type": "markdown",
   "metadata": {},
   "source": [
    "# 4. MLP"
   ]
  },
  {
   "attachments": {},
   "cell_type": "markdown",
   "metadata": {},
   "source": [
    "Simple feed forward network with two layers\n",
    "\n",
    "d_mlp usually 4 * d_model\n",
    "\n",
    "we apply GELU instead of ReLU"
   ]
  },
  {
   "attachments": {},
   "cell_type": "markdown",
   "metadata": {},
   "source": [
    "# 5. Transformer block"
   ]
  },
  {
   "attachments": {},
   "cell_type": "markdown",
   "metadata": {},
   "source": [
    "Wrap Attention and Mlp with Layernorms to single block\n",
    "\n",
    "RESID_PRE -> LayerNorm -> Attention -> RESID_MID -> LayerNorm -> Mlp -> RESID_OUT"
   ]
  },
  {
   "attachments": {},
   "cell_type": "markdown",
   "metadata": {},
   "source": [
    "# 6. Unembed"
   ]
  },
  {
   "attachments": {},
   "cell_type": "markdown",
   "metadata": {},
   "source": [
    "Map residual stream to logits in vocab space\n",
    "return logits "
   ]
  },
  {
   "attachments": {},
   "cell_type": "markdown",
   "metadata": {},
   "source": [
    "# A. Compute loss"
   ]
  },
  {
   "attachments": {},
   "cell_type": "markdown",
   "metadata": {},
   "source": [
    "## A1. Compute cross entropy loss\n",
    "\n",
    "You create predictions for every token to be able to learn from every sub sentence in the sequence.\n",
    "\n",
    "compute log_probs = logits.log_softmax(dim=-1) over each d_vocab"
   ]
  },
  {
   "attachments": {},
   "cell_type": "markdown",
   "metadata": {},
   "source": [
    "## Interpretation of loss in maximum likelyhood estimation"
   ]
  },
  {
   "attachments": {},
   "cell_type": "markdown",
   "metadata": {},
   "source": [
    "# B. Training"
   ]
  },
  {
   "cell_type": "markdown",
   "metadata": {},
   "source": []
  }
 ],
 "metadata": {
  "kernelspec": {
   "display_name": "mienv",
   "language": "python",
   "name": "python3"
  },
  "language_info": {
   "codemirror_mode": {
    "name": "ipython",
    "version": 3
   },
   "file_extension": ".py",
   "mimetype": "text/x-python",
   "name": "python",
   "nbconvert_exporter": "python",
   "pygments_lexer": "ipython3",
   "version": "3.10.0"
  },
  "orig_nbformat": 4,
  "vscode": {
   "interpreter": {
    "hash": "643a41a1389568ad6a54d2d73a392894a3e61d2c001df9b69b0a5517c6ea160d"
   }
  }
 },
 "nbformat": 4,
 "nbformat_minor": 2
}
