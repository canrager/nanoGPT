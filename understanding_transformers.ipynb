{
 "cells": [
  {
   "attachments": {},
   "cell_type": "markdown",
   "metadata": {},
   "source": [
    "# Cans Notebook for Understanding Transformers"
   ]
  },
  {
   "attachments": {},
   "cell_type": "markdown",
   "metadata": {},
   "source": [
    "## Purpose\n",
    "Predict next token in a sequence"
   ]
  },
  {
   "cell_type": "code",
   "execution_count": 1,
   "metadata": {},
   "outputs": [],
   "source": [
    "# Jargon dictionary\n",
    "jargon = {\n",
    "    'vector':\n",
    "    'multidimensional variable, column of shape 1 x N',\n",
    "\n",
    "    'tensor':\n",
    "    'multidimensional variable, higher number of axes than variable, e.g. L x M x N'\n",
    "\n",
    "}"
   ]
  },
  {
   "cell_type": "code",
   "execution_count": 5,
   "metadata": {},
   "outputs": [
    {
     "data": {
      "text/plain": [
       "'multidimensional variable, higher number of axes than variable, e.g. L x M x N'"
      ]
     },
     "execution_count": 5,
     "metadata": {},
     "output_type": "execute_result"
    }
   ],
   "source": [
    "jargon['tensor']"
   ]
  },
  {
   "attachments": {},
   "cell_type": "markdown",
   "metadata": {},
   "source": [
    "## Ideas for Interpretability\n",
    "\n",
    "Multiheadedness: higher chance fo find a good parameter value?"
   ]
  },
  {
   "attachments": {},
   "cell_type": "markdown",
   "metadata": {},
   "source": [
    "## General structure"
   ]
  },
  {
   "attachments": {},
   "cell_type": "markdown",
   "metadata": {},
   "source": [
    "Outside the model:\n",
    "\n",
    "Tokenizer: Input data to distinct tokens\n",
    "___\n",
    "\n",
    "1. Embedding: Token to vector\n",
    "2. Residual Stream with N Blocks of\n",
    "   - LayerNorm\n",
    "   1. Multiheaded Attention (multiple attention layers in parallel) \n",
    "   - LayerNorm\n",
    "   2. MLP\n",
    "   - LayerNorm\n",
    "3. Unembedding\n",
    "\n",
    "___\n",
    "'untokenizer?'"
   ]
  },
  {
   "cell_type": "markdown",
   "metadata": {},
   "source": []
  }
 ],
 "metadata": {
  "kernelspec": {
   "display_name": "mienv",
   "language": "python",
   "name": "python3"
  },
  "language_info": {
   "codemirror_mode": {
    "name": "ipython",
    "version": 3
   },
   "file_extension": ".py",
   "mimetype": "text/x-python",
   "name": "python",
   "nbconvert_exporter": "python",
   "pygments_lexer": "ipython3",
   "version": "3.10.0"
  },
  "orig_nbformat": 4
 },
 "nbformat": 4,
 "nbformat_minor": 2
}
