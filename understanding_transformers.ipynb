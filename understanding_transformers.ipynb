{
 "cells": [
  {
   "attachments": {},
   "cell_type": "markdown",
   "metadata": {},
   "source": [
    "# Cans Notebook for Understanding Transformers"
   ]
  },
  {
   "attachments": {},
   "cell_type": "markdown",
   "metadata": {},
   "source": [
    "## Purpose\n",
    "Predict next token in a sequence"
   ]
  },
  {
   "cell_type": "code",
   "execution_count": 1,
   "metadata": {},
   "outputs": [],
   "source": [
    "# Jargon dictionary\n",
    "jargon = {\n",
    "    'vector':\n",
    "    'multidimensional variable, column of shape 1 x N',\n",
    "\n",
    "    'tensor':\n",
    "    'multidimensional variable, higher number of axes than variable, e.g. L x M x N'\n",
    "\n",
    "}"
   ]
  },
  {
   "cell_type": "code",
   "execution_count": 5,
   "metadata": {},
   "outputs": [
    {
     "data": {
      "text/plain": [
       "'multidimensional variable, higher number of axes than variable, e.g. L x M x N'"
      ]
     },
     "execution_count": 5,
     "metadata": {},
     "output_type": "execute_result"
    }
   ],
   "source": [
    "jargon['tensor']"
   ]
  },
  {
   "attachments": {},
   "cell_type": "markdown",
   "metadata": {},
   "source": [
    "## Ideas for Interpretability\n",
    "\n",
    "Multiheadedness: higher chance fo find a good parameter value?"
   ]
  },
  {
   "attachments": {},
   "cell_type": "markdown",
   "metadata": {},
   "source": [
    "## General structure"
   ]
  },
  {
   "attachments": {},
   "cell_type": "markdown",
   "metadata": {},
   "source": [
    "Outside the model:\n",
    "\n",
    "Tokenizer: Input data to distinct tokens\n",
    "___\n",
    "\n",
    "1. Embedding: Token to vector\n",
    "2. Residual Stream with N Blocks of\n",
    "   - LayerNorm\n",
    "   1. Multiheaded Attention (multiple attention layers in parallel) \n",
    "   - LayerNorm\n",
    "   2. MLP\n",
    "   - LayerNorm\n",
    "3. Unembedding\n",
    "\n",
    "___\n",
    "'untokenizer?'"
   ]
  },
  {
   "attachments": {},
   "cell_type": "markdown",
   "metadata": {},
   "source": [
    "## 1. Embedding\n",
    "\n",
    "Takes batch of tokens: [batch, position]. Each token corresponds to an it in the range [0, d_vocab]\n",
    "\n",
    "Define a matrix W_E: [d_vocab, d_model]\n",
    "\n",
    "W_E maps token to d_model space. Thats why they call it a lookup table\n",
    "\n",
    "`embedded = W_E[tokens, :]`\n",
    "\n",
    "### 1.1 Positional Embedding\n",
    "Maps the position of the token to d_model space."
   ]
  },
  {
   "cell_type": "markdown",
   "metadata": {},
   "source": []
  }
 ],
 "metadata": {
  "kernelspec": {
   "display_name": "mienv",
   "language": "python",
   "name": "python3"
  },
  "language_info": {
   "codemirror_mode": {
    "name": "ipython",
    "version": 3
   },
   "file_extension": ".py",
   "mimetype": "text/x-python",
   "name": "python",
   "nbconvert_exporter": "python",
   "pygments_lexer": "ipython3",
   "version": "3.10.0"
  },
  "orig_nbformat": 4,
  "vscode": {
   "interpreter": {
    "hash": "643a41a1389568ad6a54d2d73a392894a3e61d2c001df9b69b0a5517c6ea160d"
   }
  }
 },
 "nbformat": 4,
 "nbformat_minor": 2
}
